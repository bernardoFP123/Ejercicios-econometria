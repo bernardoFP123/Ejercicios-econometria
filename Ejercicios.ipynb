{
 "cells": [
  {
   "cell_type": "markdown",
   "metadata": {},
   "source": [
    "# Ejercicio 2\n",
    "## Se observa el comportamiento de una regresión lineal cuando se presenta multicolinearidad en los datos\n",
    "Inciso 1"
   ]
  },
  {
   "cell_type": "code",
   "execution_count": 102,
   "metadata": {
    "collapsed": false,
    "scrolled": true
   },
   "outputs": [
    {
     "data": {
      "image/png": "[encoded data removed]",
      "text/plain": [
       "<matplotlib.figure.Figure at 0xec26940>"
      ]
     },
     "metadata": {},
     "output_type": "display_data"
    }
   ],
   "source": [
    "import numpy as np\n",
    "import matplotlib.pyplot as plt\n",
    "import statsmodels.api as sm\n",
    "X = np.zeros((100,2),dtype = float)\n",
    "Y = np.zeros(100)\n",
    "for i in range(100):\n",
    "    X[i] = np.random.multivariate_normal([0,0.5],[[0.36,0.000002],[0.000002,0.000001]])\n",
    "    Y[i] = X[i,0]\n",
    "    X[i,0] = 1\n",
    "  \n",
    "plt.scatter(X[:,1],Y)\n",
    "\n",
    "plt.show()"
   ]
  },
  {
   "cell_type": "markdown",
   "metadata": {},
   "source": [
    "Inciso 2\n",
    "\n",
    "Sabemos que \n",
    "$$\n",
    "f_{Y|X}(Y) = \\frac{f_{x,y}(x,y)}{f_{x}(x)}\n",
    "$$\n",
    "y que la distribución conjunta viene dada por la exponencial. \n",
    "\n",
    "Al calular la esperanza condicional de Y dado X obtenemos\n",
    "$$\n",
    "E(Y|X) = sgn(\\rho)\\frac{\\sigma_{x}}{\\sigma_{y}}(X - \\mu_{x}) +\\mu_{y}\n",
    "$$\n",
    "\n",
    "Por tanto\n",
    "\n",
    "$\\alpha_{0} = -300$\n",
    "\n",
    "$\\beta_{0} = 600$\n",
    "\n",
    "\n",
    "\n",
    "\n",
    "Inciso 3\n"
   ]
  },
  {
   "cell_type": "code",
   "execution_count": 103,
   "metadata": {
    "collapsed": false
   },
   "outputs": [
    {
     "data": {
      "image/png": "[encoded data removed]",
      "text/plain": [
       "<matplotlib.figure.Figure at 0xeaaacf8>"
      ]
     },
     "metadata": {},
     "output_type": "display_data"
    }
   ],
   "source": [
    "x2 = np.linspace(0.495,0.505,100)\n",
    "y2 = -300 + 600*x2\n",
    "plt.scatter(X[:,1],Y)\n",
    "plt.plot(x2,y2)\n",
    "plt.show()"
   ]
  },
  {
   "cell_type": "markdown",
   "metadata": {},
   "source": [
    "Inciso IV"
   ]
  },
  {
   "cell_type": "code",
   "execution_count": 104,
   "metadata": {
    "collapsed": false,
    "scrolled": false
   },
   "outputs": [
    {
     "name": "stdout",
     "output_type": "stream",
     "text": [
      "El determinante de la matríz X´X es:  0.0109651599224\n",
      "La matriz X es:\n",
      "[[ 1.          0.49881782]\n",
      " [ 1.          0.5008896 ]\n",
      " [ 1.          0.49901133]\n",
      " [ 1.          0.50131458]\n",
      " [ 1.          0.49808046]\n",
      " [ 1.          0.49979905]\n",
      " [ 1.          0.49817122]\n",
      " [ 1.          0.50103769]\n",
      " [ 1.          0.5006511 ]\n",
      " [ 1.          0.50130424]\n",
      " [ 1.          0.50253384]\n",
      " [ 1.          0.5002905 ]\n",
      " [ 1.          0.50041451]\n",
      " [ 1.          0.50086641]\n",
      " [ 1.          0.49949528]\n",
      " [ 1.          0.5006874 ]\n",
      " [ 1.          0.50000627]\n",
      " [ 1.          0.49974829]\n",
      " [ 1.          0.50060217]\n",
      " [ 1.          0.49867233]\n",
      " [ 1.          0.49860681]\n",
      " [ 1.          0.49869902]\n",
      " [ 1.          0.50041397]\n",
      " [ 1.          0.49959797]\n",
      " [ 1.          0.49971017]\n",
      " [ 1.          0.50108146]\n",
      " [ 1.          0.50017905]\n",
      " [ 1.          0.49940259]\n",
      " [ 1.          0.49930884]\n",
      " [ 1.          0.49926132]\n",
      " [ 1.          0.49871763]\n",
      " [ 1.          0.50075531]\n",
      " [ 1.          0.49901103]\n",
      " [ 1.          0.50160838]\n",
      " [ 1.          0.49956677]\n",
      " [ 1.          0.50277288]\n",
      " [ 1.          0.49920577]\n",
      " [ 1.          0.49993231]\n",
      " [ 1.          0.49871813]\n",
      " [ 1.          0.50131318]\n",
      " [ 1.          0.50036545]\n",
      " [ 1.          0.50056237]\n",
      " [ 1.          0.50085395]\n",
      " [ 1.          0.49946616]\n",
      " [ 1.          0.50234921]\n",
      " [ 1.          0.49873348]\n",
      " [ 1.          0.49934211]\n",
      " [ 1.          0.50059714]\n",
      " [ 1.          0.49917604]\n",
      " [ 1.          0.49995742]\n",
      " [ 1.          0.49709949]\n",
      " [ 1.          0.50116178]\n",
      " [ 1.          0.50018628]\n",
      " [ 1.          0.50105132]\n",
      " [ 1.          0.49956909]\n",
      " [ 1.          0.49855857]\n",
      " [ 1.          0.49865542]\n",
      " [ 1.          0.49966417]\n",
      " [ 1.          0.50110107]\n",
      " [ 1.          0.50050063]\n",
      " [ 1.          0.49971261]\n",
      " [ 1.          0.50169046]\n",
      " [ 1.          0.50043846]\n",
      " [ 1.          0.49954445]\n",
      " [ 1.          0.49953178]\n",
      " [ 1.          0.49990026]\n",
      " [ 1.          0.50221718]\n",
      " [ 1.          0.49886   ]\n",
      " [ 1.          0.49995708]\n",
      " [ 1.          0.49946455]\n",
      " [ 1.          0.50046316]\n",
      " [ 1.          0.49896972]\n",
      " [ 1.          0.50138426]\n",
      " [ 1.          0.4993928 ]\n",
      " [ 1.          0.5007918 ]\n",
      " [ 1.          0.49836375]\n",
      " [ 1.          0.49954043]\n",
      " [ 1.          0.49909037]\n",
      " [ 1.          0.49955422]\n",
      " [ 1.          0.49910833]\n",
      " [ 1.          0.50044759]\n",
      " [ 1.          0.49930473]\n",
      " [ 1.          0.49928812]\n",
      " [ 1.          0.4986001 ]\n",
      " [ 1.          0.49970632]\n",
      " [ 1.          0.49844279]\n",
      " [ 1.          0.49935205]\n",
      " [ 1.          0.49957222]\n",
      " [ 1.          0.49992501]\n",
      " [ 1.          0.50117862]\n",
      " [ 1.          0.50022167]\n",
      " [ 1.          0.49842444]\n",
      " [ 1.          0.50074554]\n",
      " [ 1.          0.49949967]\n",
      " [ 1.          0.49831395]\n",
      " [ 1.          0.49915989]\n",
      " [ 1.          0.50039533]\n",
      " [ 1.          0.50039119]\n",
      " [ 1.          0.50018826]\n",
      " [ 1.          0.50047594]]\n",
      "La matriz (X'X) inversa es:\n",
      "[[ 2279.12110863 -4559.05953925]\n",
      " [-4559.05953925  9119.79403011]]\n",
      "Hay multicolinearidad\n"
     ]
    }
   ],
   "source": [
    "X_trans = np.transpose(X)\n",
    "det = np.linalg.det(np.dot(X_trans,X)) \n",
    "print \"El determinante de la matríz X´X es: \", det\n",
    "print \"La matriz X es:\"\n",
    "print X\n",
    "print \"La matriz (X'X) inversa es:\"\n",
    "print np.linalg.inv(np.dot(X_trans,X))\n",
    "print \"Hay multicolinearidad\""
   ]
  },
  {
   "cell_type": "markdown",
   "metadata": {},
   "source": [
    "Inciso V"
   ]
  },
  {
   "cell_type": "code",
   "execution_count": 107,
   "metadata": {
    "collapsed": false
   },
   "outputs": [
    {
     "name": "stdout",
     "output_type": "stream",
     "text": [
      "                            OLS Regression Results                            \n",
      "==============================================================================\n",
      "Dep. Variable:                      y   R-squared:                       0.000\n",
      "Model:                            OLS   Adj. R-squared:                 -0.010\n",
      "Method:                 Least Squares   F-statistic:                 0.0001478\n",
      "Date:                Sun, 26 Nov 2017   Prob (F-statistic):              0.990\n",
      "Time:                        13:51:44   Log-Likelihood:                -94.431\n",
      "No. Observations:                 100   AIC:                             192.9\n",
      "Df Residuals:                      98   BIC:                             198.1\n",
      "Df Model:                           1                                         \n",
      "Covariance Type:            nonrobust                                         \n",
      "==============================================================================\n",
      "                 coef    std err          t      P>|t|      [95.0% Conf. Int.]\n",
      "------------------------------------------------------------------------------\n",
      "const         -0.3678     30.001     -0.012      0.990       -59.904    59.169\n",
      "x1             0.7297     60.014      0.012      0.990      -118.365   119.825\n",
      "==============================================================================\n",
      "Omnibus:                        0.393   Durbin-Watson:                   2.065\n",
      "Prob(Omnibus):                  0.821   Jarque-Bera (JB):                0.145\n",
      "Skew:                          -0.081   Prob(JB):                        0.930\n",
      "Kurtosis:                       3.094   Cond. No.                     1.19e+03\n",
      "==============================================================================\n",
      "\n",
      "Warnings:\n",
      "[1] Standard Errors assume that the covariance matrix of the errors is correctly specified.\n",
      "[2] The condition number is large, 1.19e+03. This might indicate that there are\n",
      "strong multicollinearity or other numerical problems.\n",
      "Por tanto la variancia de los términos de error var(e) es: 0.628437623187\n"
     ]
    }
   ],
   "source": [
    "mod = sm.OLS(Y,X)\n",
    "res = mod.fit()\n",
    "print(res.summary())\n",
    "print \"Por tanto la variancia de los términos de error var(e) es:\", np.sqrt(res.uncentered_tss/98)\n"
   ]
  },
  {
   "cell_type": "markdown",
   "metadata": {},
   "source": [
    "Inciso 6 y 7\n",
    "Los intervalos de confianza del 95% vienen indicados en la tabla anterior:\n",
    "\n",
    "$\\alpha$  $\\epsilon$  $[-59.904,59.169]$ \n",
    "\n",
    "\n",
    "$\\beta$  $\\epsilon$  $[-118.365,119.825]$\n"
   ]
  },
  {
   "cell_type": "markdown",
   "metadata": {},
   "source": [
    "Inciso 8\n",
    "\n",
    "a)\n",
    "\n",
    "Calculemos el t valor para $\\alpha = 1$, para tener una confianza del 95% de que la hipotesis es verdadera necesitamos que el t valor sea menor a  1.9845 "
   ]
  },
  {
   "cell_type": "code",
   "execution_count": 108,
   "metadata": {
    "collapsed": false
   },
   "outputs": [
    {
     "name": "stdout",
     "output_type": "stream",
     "text": [
      "-0.0455907482726\n"
     ]
    }
   ],
   "source": [
    "t = (-0.3678 -1)/(0.628437623187*np.sqrt(2279.12110863))\n",
    "print t"
   ]
  },
  {
   "cell_type": "markdown",
   "metadata": {},
   "source": [
    "Se acepta la hipótesis de que $\\alpha_{0}$ sea 1 con una significancia del 5%"
   ]
  },
  {
   "cell_type": "markdown",
   "metadata": {},
   "source": [
    "b)\n",
    "\n",
    "Calculemos el t valor para $\\alpha = -4$, para tener una confianza del 95% de que la hipotesis es verdadera necesitamos que el t valor sea menor a  1.9845 "
   ]
  },
  {
   "cell_type": "code",
   "execution_count": 112,
   "metadata": {
    "collapsed": false
   },
   "outputs": [
    {
     "name": "stdout",
     "output_type": "stream",
     "text": [
      "0.121066468691\n"
     ]
    }
   ],
   "source": [
    "t = (-0.3678 +4)/(0.628437623187*np.sqrt(2279.12110863))\n",
    "print t"
   ]
  },
  {
   "cell_type": "markdown",
   "metadata": {},
   "source": [
    "Se acepta la hipótesis de que $\\alpha_{0}$ sea 4 con una significancia del 5%"
   ]
  },
  {
   "cell_type": "markdown",
   "metadata": {},
   "source": [
    "Inciso 9\n",
    "\n",
    "Calculemos el t valor para $\\beta = 0$, para tener una confianza del 95% de que la hipotesis es verdadera necesitamos que el t valor sea menor a  1.9845 "
   ]
  },
  {
   "cell_type": "code",
   "execution_count": 111,
   "metadata": {
    "collapsed": false
   },
   "outputs": [
    {
     "name": "stdout",
     "output_type": "stream",
     "text": [
      "0.0121587702974\n"
     ]
    }
   ],
   "source": [
    "t = (0.7297)/(0.628437623187*np.sqrt(9119.79403011))\n",
    "print t"
   ]
  },
  {
   "cell_type": "markdown",
   "metadata": {},
   "source": [
    "Se acepta la hipótesis de que beta es 0 con significancia del 5%"
   ]
  },
  {
   "cell_type": "markdown",
   "metadata": {},
   "source": [
    "Calculemos el t valor para $\\beta = -2$, para tener una confianza del 95% de que la hipotesis es verdadera necesitamos que el t valor sea menor a  1.9845 "
   ]
  },
  {
   "cell_type": "code",
   "execution_count": 113,
   "metadata": {
    "collapsed": false
   },
   "outputs": [
    {
     "name": "stdout",
     "output_type": "stream",
     "text": [
      "0.0454841651102\n"
     ]
    }
   ],
   "source": [
    "t = (0.7297+2)/(0.628437623187*np.sqrt(9119.79403011))\n",
    "print t"
   ]
  },
  {
   "cell_type": "markdown",
   "metadata": {},
   "source": [
    "Se acepta la hipótesis de que beta es 0 con significancia del 5%"
   ]
  },
  {
   "cell_type": "markdown",
   "metadata": {},
   "source": [
    "Inciso 10"
   ]
  },
  {
   "cell_type": "code",
   "execution_count": 64,
   "metadata": {
    "collapsed": false,
    "scrolled": false
   },
   "outputs": [
    {
     "name": "stdout",
     "output_type": "stream",
     "text": [
      "                            OLS Regression Results                            \n",
      "==============================================================================\n",
      "Dep. Variable:                      y   R-squared:                       0.004\n",
      "Model:                            OLS   Adj. R-squared:                 -0.006\n",
      "Method:                 Least Squares   F-statistic:                    0.4114\n",
      "Date:                Sun, 26 Nov 2017   Prob (F-statistic):              0.523\n",
      "Time:                        12:58:58   Log-Likelihood:                -95.489\n",
      "No. Observations:                 100   AIC:                             195.0\n",
      "Df Residuals:                      98   BIC:                             200.2\n",
      "Df Model:                           1                                         \n",
      "Covariance Type:            nonrobust                                         \n",
      "==============================================================================\n",
      "                 coef    std err          t      P>|t|      [95.0% Conf. Int.]\n",
      "------------------------------------------------------------------------------\n",
      "const         21.1003     32.940      0.641      0.523       -44.269    86.469\n",
      "x1           -42.2560     65.884     -0.641      0.523      -173.000    88.488\n",
      "==============================================================================\n",
      "Omnibus:                        3.977   Durbin-Watson:                   1.977\n",
      "Prob(Omnibus):                  0.137   Jarque-Bera (JB):                4.521\n",
      "Skew:                          -0.122   Prob(JB):                        0.104\n",
      "Kurtosis:                       4.013   Cond. No.                     1.30e+03\n",
      "==============================================================================\n",
      "\n",
      "Warnings:\n",
      "[1] Standard Errors assume that the covariance matrix of the errors is correctly specified.\n",
      "[2] The condition number is large, 1.3e+03. This might indicate that there are\n",
      "strong multicollinearity or other numerical problems.\n",
      "                            OLS Regression Results                            \n",
      "==============================================================================\n",
      "Dep. Variable:                      y   R-squared:                       0.010\n",
      "Model:                            OLS   Adj. R-squared:                  0.000\n",
      "Method:                 Least Squares   F-statistic:                     1.030\n",
      "Date:                Sun, 26 Nov 2017   Prob (F-statistic):              0.313\n",
      "Time:                        12:58:58   Log-Likelihood:                -94.084\n",
      "No. Observations:                 100   AIC:                             192.2\n",
      "Df Residuals:                      98   BIC:                             197.4\n",
      "Df Model:                           1                                         \n",
      "Covariance Type:            nonrobust                                         \n",
      "==============================================================================\n",
      "                 coef    std err          t      P>|t|      [95.0% Conf. Int.]\n",
      "------------------------------------------------------------------------------\n",
      "const         34.6877     34.206      1.014      0.313       -33.194   102.569\n",
      "x1           -69.4318     68.402     -1.015      0.313      -205.173    66.310\n",
      "==============================================================================\n",
      "Omnibus:                        3.867   Durbin-Watson:                   1.926\n",
      "Prob(Omnibus):                  0.145   Jarque-Bera (JB):                3.225\n",
      "Skew:                           0.411   Prob(JB):                        0.199\n",
      "Kurtosis:                       3.313   Cond. No.                     1.37e+03\n",
      "==============================================================================\n",
      "\n",
      "Warnings:\n",
      "[1] Standard Errors assume that the covariance matrix of the errors is correctly specified.\n",
      "[2] The condition number is large, 1.37e+03. This might indicate that there are\n",
      "strong multicollinearity or other numerical problems.\n",
      "                            OLS Regression Results                            \n",
      "==============================================================================\n",
      "Dep. Variable:                      y   R-squared:                       0.010\n",
      "Model:                            OLS   Adj. R-squared:                 -0.000\n",
      "Method:                 Least Squares   F-statistic:                    0.9509\n",
      "Date:                Sun, 26 Nov 2017   Prob (F-statistic):              0.332\n",
      "Time:                        12:58:58   Log-Likelihood:                -90.316\n",
      "No. Observations:                 100   AIC:                             184.6\n",
      "Df Residuals:                      98   BIC:                             189.8\n",
      "Df Model:                           1                                         \n",
      "Covariance Type:            nonrobust                                         \n",
      "==============================================================================\n",
      "                 coef    std err          t      P>|t|      [95.0% Conf. Int.]\n",
      "------------------------------------------------------------------------------\n",
      "const         30.5013     31.296      0.975      0.332       -31.605    92.607\n",
      "x1           -61.0400     62.595     -0.975      0.332      -185.258    63.178\n",
      "==============================================================================\n",
      "Omnibus:                        0.253   Durbin-Watson:                   2.284\n",
      "Prob(Omnibus):                  0.881   Jarque-Bera (JB):                0.128\n",
      "Skew:                           0.088   Prob(JB):                        0.938\n",
      "Kurtosis:                       3.004   Cond. No.                     1.30e+03\n",
      "==============================================================================\n",
      "\n",
      "Warnings:\n",
      "[1] Standard Errors assume that the covariance matrix of the errors is correctly specified.\n",
      "[2] The condition number is large, 1.3e+03. This might indicate that there are\n",
      "strong multicollinearity or other numerical problems.\n",
      "                            OLS Regression Results                            \n",
      "==============================================================================\n",
      "Dep. Variable:                      y   R-squared:                       0.000\n",
      "Model:                            OLS   Adj. R-squared:                 -0.010\n",
      "Method:                 Least Squares   F-statistic:                   0.02117\n",
      "Date:                Sun, 26 Nov 2017   Prob (F-statistic):              0.885\n",
      "Time:                        12:58:58   Log-Likelihood:                -103.27\n",
      "No. Observations:                 100   AIC:                             210.5\n",
      "Df Residuals:                      98   BIC:                             215.7\n",
      "Df Model:                           1                                         \n",
      "Covariance Type:            nonrobust                                         \n",
      "==============================================================================\n",
      "                 coef    std err          t      P>|t|      [95.0% Conf. Int.]\n",
      "------------------------------------------------------------------------------\n",
      "const         -4.7522     33.164     -0.143      0.886       -70.565    61.061\n",
      "x1             9.6544     66.354      0.145      0.885      -122.024   141.332\n",
      "==============================================================================\n",
      "Omnibus:                        2.426   Durbin-Watson:                   2.436\n",
      "Prob(Omnibus):                  0.297   Jarque-Bera (JB):                1.613\n",
      "Skew:                           0.020   Prob(JB):                        0.446\n",
      "Kurtosis:                       2.379   Cond. No.                     1.21e+03\n",
      "==============================================================================\n",
      "\n",
      "Warnings:\n",
      "[1] Standard Errors assume that the covariance matrix of the errors is correctly specified.\n",
      "[2] The condition number is large, 1.21e+03. This might indicate that there are\n",
      "strong multicollinearity or other numerical problems.\n"
     ]
    }
   ],
   "source": [
    "for i in range(4):\n",
    "    X = np.zeros((100,2),dtype = float)\n",
    "    Y = np.zeros(100)\n",
    "    for i in range(100):\n",
    "        X[i] = np.random.multivariate_normal([0,0.5],[[0.36,0.000002],[0.000002,0.000001]])\n",
    "        Y[i] = X[i,0]\n",
    "        X[i,0] = 1\n",
    "    mod = sm.OLS(Y,X)\n",
    "    res = mod.fit()\n",
    "    print(res.summary())"
   ]
  },
  {
   "cell_type": "markdown",
   "metadata": {},
   "source": [
    "Los valores son bastante diferentes a los reales y entre ellos"
   ]
  },
  {
   "cell_type": "markdown",
   "metadata": {},
   "source": [
    "# Ejercicio 3\n",
    "## Se genera un conjunto de datos sumando una variable lineal y una variable aleatoria con distribución gaussiana.\n",
    "## Se analiza la tendencia lineal de los datos generados.\n"
   ]
  },
  {
   "cell_type": "code",
   "execution_count": 37,
   "metadata": {
    "collapsed": true
   },
   "outputs": [],
   "source": [
    "import numpy as np\n",
    "import matplotlib.pyplot as plt\n",
    "import statsmodels.api as sm\n"
   ]
  },
  {
   "cell_type": "code",
   "execution_count": 48,
   "metadata": {
    "collapsed": false
   },
   "outputs": [],
   "source": [
    "class Ut:\n",
    "    ut = np.zeros(700)\n",
    "\n",
    "    def get(self,index):\n",
    "        return self.ut[index+500]\n",
    "    def set(self,index,number):\n",
    "        self.ut[index+500] = number\n"
   ]
  },
  {
   "cell_type": "code",
   "execution_count": 49,
   "metadata": {
    "collapsed": false
   },
   "outputs": [
    {
     "data": {
      "image/png": "[encoded data removed]",
      "text/plain": [
       "<matplotlib.figure.Figure at 0xbcde860>"
      ]
     },
     "metadata": {},
     "output_type": "display_data"
    }
   ],
   "source": [
    "\n",
    "Et = Ut()\n",
    "for i in range(-500,200):\n",
    "    s =np.random.normal(0,0.2)\n",
    "    Et.set(i,s)\n",
    "    \n",
    "    \n",
    "Ut = Ut()\n",
    "Ut.set(-500,0)\n",
    "for i in range(-499,200):\n",
    "    Ut.set(i,0.9*Ut.get(i-1)+Et.get(i))\n",
    "plotUt = np.zeros(200)\n",
    "for i in range(0,200):\n",
    "    plotUt[i] = Ut.get(i)\n",
    "plt.plot(range(1,201),plotUt)\n",
    "plt.show()"
   ]
  },
  {
   "cell_type": "code",
   "execution_count": 58,
   "metadata": {
    "collapsed": false
   },
   "outputs": [
    {
     "data": {
      "image/png": "[encoded data removed]",
      "text/plain": [
       "<matplotlib.figure.Figure at 0xc7ccc50>"
      ]
     },
     "metadata": {},
     "output_type": "display_data"
    }
   ],
   "source": [
    "X = np.zeros(200)\n",
    "Y = np.zeros(200)\n",
    "for i in range(0,200):\n",
    "    X[i] = i/100.\n",
    "    Y[i] = 1 + 0.8*X[i] + Ut.get(i)\n",
    "plt.plot(X,Y,'o')\n",
    "plt.show()"
   ]
  },
  {
   "cell_type": "code",
   "execution_count": 72,
   "metadata": {
    "collapsed": false
   },
   "outputs": [
    {
     "name": "stdout",
     "output_type": "stream",
     "text": [
      "                            OLS Regression Results                            \n",
      "==============================================================================\n",
      "Dep. Variable:                      y   R-squared:                       0.689\n",
      "Model:                            OLS   Adj. R-squared:                  0.687\n",
      "Method:                 Least Squares   F-statistic:                     438.2\n",
      "Date:                Sun, 26 Nov 2017   Prob (F-statistic):           4.46e-52\n",
      "Time:                        18:06:14   Log-Likelihood:                -44.761\n",
      "No. Observations:                 200   AIC:                             93.52\n",
      "Df Residuals:                     198   BIC:                             100.1\n",
      "Df Model:                           1                                         \n",
      "Covariance Type:            nonrobust                                         \n",
      "==============================================================================\n",
      "                 coef    std err          t      P>|t|      [95.0% Conf. Int.]\n",
      "------------------------------------------------------------------------------\n",
      "const          1.1654      0.043     27.193      0.000         1.081     1.250\n",
      "x1             0.7799      0.037     20.933      0.000         0.706     0.853\n",
      "==============================================================================\n",
      "Omnibus:                        5.015   Durbin-Watson:                   0.382\n",
      "Prob(Omnibus):                  0.081   Jarque-Bera (JB):                2.919\n",
      "Skew:                           0.012   Prob(JB):                        0.232\n",
      "Kurtosis:                       2.409   Cond. No.                         3.76\n",
      "==============================================================================\n",
      "\n",
      "Warnings:\n",
      "[1] Standard Errors assume that the covariance matrix of the errors is correctly specified.\n",
      "Por tanto la variancia de los términos de error sigma u es: 2.87964860744\n"
     ]
    }
   ],
   "source": [
    "Xm = np.zeros((200,2))\n",
    "for i in range(200):\n",
    "    Xm[i,0] = 1\n",
    "    Xm[i,1] = X[i]\n",
    "mod = sm.OLS(Y,Xm)\n",
    "res = mod.fit()\n",
    "print(res.summary())\n",
    "print \"Por tanto la variancia de los términos de error sigma u es:\", np.sqrt(res.uncentered_tss/98.)"
   ]
  },
  {
   "cell_type": "code",
   "execution_count": 71,
   "metadata": {
    "collapsed": false,
    "scrolled": false
   },
   "outputs": [
    {
     "name": "stdout",
     "output_type": "stream",
     "text": [
      "                            OLS Regression Results                            \n",
      "==============================================================================\n",
      "Dep. Variable:                      y   R-squared:                       0.689\n",
      "Model:                            OLS   Adj. R-squared:                  0.687\n",
      "Method:                 Least Squares   F-statistic:                     438.2\n",
      "Date:                Sun, 26 Nov 2017   Prob (F-statistic):           4.46e-52\n",
      "Time:                        18:02:13   Log-Likelihood:                -44.761\n",
      "No. Observations:                 200   AIC:                             93.52\n",
      "Df Residuals:                     198   BIC:                             100.1\n",
      "Df Model:                           1                                         \n",
      "Covariance Type:            nonrobust                                         \n",
      "==============================================================================\n",
      "                 coef    std err          t      P>|t|      [95.0% Conf. Int.]\n",
      "------------------------------------------------------------------------------\n",
      "const          1.1654      0.043     27.193      0.000         1.081     1.250\n",
      "x1             0.7799      0.037     20.933      0.000         0.706     0.853\n",
      "==============================================================================\n",
      "Omnibus:                        5.015   Durbin-Watson:                   0.382\n",
      "Prob(Omnibus):                  0.081   Jarque-Bera (JB):                2.919\n",
      "Skew:                           0.012   Prob(JB):                        0.232\n",
      "Kurtosis:                       2.409   Cond. No.                         3.76\n",
      "==============================================================================\n",
      "\n",
      "Warnings:\n",
      "[1] Standard Errors assume that the covariance matrix of the errors is correctly specified.\n",
      "Por tanto la variancia de los términos de error sigma u es: 2.87964860744\n"
     ]
    }
   ],
   "source": [
    "C =  np.zeros((200,200))\n",
    "C[0,0] = np.sqrt(1-0.9**2)\n",
    "for i in range(1,200):\n",
    "    C[i,i-1] = 0.9\n",
    "    C[i,i] = 1\n",
    "C = (1./np.sqrt(1-0.9**2))\n",
    "modGLS = sm.GLS(np.dot(C,Y),np.dot(C,Xm))\n",
    "resGLS = mod.fit()\n",
    "print(res.summary())\n",
    "print \"Por tanto la variancia de los términos de error sigma u es:\", np.sqrt(res.uncentered_tss/98.)"
   ]
  },
  {
   "cell_type": "markdown",
   "metadata": {},
   "source": [
    "Inciso 6"
   ]
  },
  {
   "cell_type": "code",
   "execution_count": 73,
   "metadata": {
    "collapsed": false
   },
   "outputs": [
    {
     "name": "stdout",
     "output_type": "stream",
     "text": [
      "[[ 0.01985075 -0.01492537]\n",
      " [-0.01492537  0.01500038]]\n"
     ]
    }
   ],
   "source": [
    "print np.linalg.inv(np.dot(np.transpose(Xm),Xm))"
   ]
  },
  {
   "cell_type": "code",
   "execution_count": 74,
   "metadata": {
    "collapsed": false
   },
   "outputs": [
    {
     "name": "stdout",
     "output_type": "stream",
     "text": [
      "-0.624064410856\n"
     ]
    }
   ],
   "source": [
    "t = (0.7799 -1.)/(2.87964860744*np.sqrt(0.01500038))\n",
    "print t"
   ]
  },
  {
   "cell_type": "markdown",
   "metadata": {},
   "source": [
    "para rechazar la hipotesis $b_{2} = 1$ con el 5% de significancia se necesta que |t| > 1.962 pero no es así entonces aprobamos la hipotesis $b_{2} = 1$ con significancia del 5%\n",
    "\n",
    "Inciso 7"
   ]
  },
  {
   "cell_type": "code",
   "execution_count": 77,
   "metadata": {
    "collapsed": false
   },
   "outputs": [
    {
     "name": "stdout",
     "output_type": "stream",
     "text": [
      "-0.0852801868352\n"
     ]
    }
   ],
   "source": [
    "t = (1.1654 -1.2)/(2.87964860744*np.sqrt(0.01985075))\n",
    "print t"
   ]
  },
  {
   "cell_type": "markdown",
   "metadata": {},
   "source": [
    "Para rechazar la hipotesis $b_{1} = 1.2$ con el 5% de significancia se necesta que |t| > 1.962 pero no es así entonces aprobamos la hipotesis $b_{1} = 1.2$ con significancia del 5%"
   ]
  },
  {
   "cell_type": "markdown",
   "metadata": {},
   "source": [
    "Inciso 8\n",
    "\n"
   ]
  },
  {
   "cell_type": "code",
   "execution_count": 80,
   "metadata": {
    "collapsed": false
   },
   "outputs": [
    {
     "name": "stdout",
     "output_type": "stream",
     "text": [
      "0.00500037500938\n",
      "0.222462809836\n"
     ]
    }
   ],
   "source": [
    "C = [1,1]\n",
    "XtXinv = np.linalg.inv(np.dot(np.transpose(Xm),Xm))\n",
    "CtX = np.dot(np.transpose(C),XtXinv)\n",
    "CtXtXC = np.dot(CtX,C)\n",
    "print CtXtXC\n",
    "t = ( 1.9453 - 1.9)/(2.87964860744*np.sqrt(CtXtXC))\n",
    "print t"
   ]
  },
  {
   "cell_type": "markdown",
   "metadata": {},
   "source": [
    "Para rechazar la hipotesis $b_{1} + b_{2} = 1.9$ con el 10% de significancia se necesta que |t| > 1.660 pero no es así entonces aprobamos la hipotesis $b_{1} + b_{2} = 1.9$ con significancia del 10%"
   ]
  },
  {
   "cell_type": "markdown",
   "metadata": {},
   "source": [
    "Inciso 9"
   ]
  },
  {
   "cell_type": "code",
   "execution_count": 86,
   "metadata": {
    "collapsed": false
   },
   "outputs": [
    {
     "name": "stdout",
     "output_type": "stream",
     "text": [
      "0.00310909936685\n"
     ]
    }
   ],
   "source": [
    "R = [[1,0],[0,1]]\n",
    "rb = [1.1654,0.7799]\n",
    "RXtXinv = np.dot(R,XtXinv)\n",
    "RXtXinvRt = np.dot(RXtXinv,np.transpose(R))\n",
    "RXtXinvRtinv = np.transpose(RXtXinvRt)\n",
    "rbtRt = np.dot(np.transpose(rb),np.transpose(R))\n",
    "rbtRRXtXinvRtinv = np.dot(rbtRt,RXtXinvRtinv)\n",
    "rbtRRXtXinvRtinvRrb = np.dot(rbtRRXtXinvRtinv,np.transpose(rbtRt))\n",
    "\n",
    "f = rbtRRXtXinvRtinvRrb/(1*2.87964860744)\n",
    "print f"
   ]
  },
  {
   "cell_type": "markdown",
   "metadata": {},
   "source": [
    "Para rechazar la hipotesis  con el 5% de significancia se necesta que |f| >  3.9201 pero no es así entonces aprobamos la hipotesis con significancia del 5%"
   ]
  },
  {
   "cell_type": "markdown",
   "metadata": {},
   "source": [
    "# Ejercicio 4\n",
    "## Se utilizan los datos de el consumo de energía eléctrica del pais\n",
    "## Se cosntruye un modelo para describir el consumo de energía eléctrica del pais tomando en cuenta la estacionalidad presente."
   ]
  },
  {
   "cell_type": "code",
   "execution_count": 87,
   "metadata": {
    "collapsed": true
   },
   "outputs": [],
   "source": [
    "import numpy as np\n",
    "import matplotlib.pyplot as plt\n",
    "import statsmodels.api as sm\n",
    "import pandas as pd"
   ]
  },
  {
   "cell_type": "code",
   "execution_count": 250,
   "metadata": {
    "collapsed": true
   },
   "outputs": [],
   "source": [
    "dataset = pd.read_csv('DatosProblema4.csv')\n",
    "X = dataset.iloc[:,0:2].values\n",
    "Y = dataset.iloc[:,2].values"
   ]
  },
  {
   "cell_type": "code",
   "execution_count": 251,
   "metadata": {
    "collapsed": true
   },
   "outputs": [],
   "source": [
    "from sklearn.preprocessing import LabelEncoder, OneHotEncoder"
   ]
  },
  {
   "cell_type": "code",
   "execution_count": 252,
   "metadata": {
    "collapsed": false
   },
   "outputs": [],
   "source": [
    "labelEncoder_X = LabelEncoder()\n",
    "X[:,0] = labelEncoder_X.fit_transform(X[:,0])\n",
    "oneHotEncoder = OneHotEncoder(categorical_features=[0])\n",
    "X = oneHotEncoder.fit_transform(X).toarray()\n",
    "\n",
    "Z = np.zeros(Y.size)\n",
    "for i in range(96):\n",
    "    Z[i] = 1\n",
    "A = np.copy(X)\n",
    "X = np.zeros((96,13))\n",
    "X[:,0] = Z\n",
    "X[:,1:12] = A[:,0:11]\n",
    "X[:,12] = A[:,12]"
   ]
  },
  {
   "cell_type": "code",
   "execution_count": 253,
   "metadata": {
    "collapsed": false
   },
   "outputs": [
    {
     "name": "stdout",
     "output_type": "stream",
     "text": [
      "['Abril' 'Agosto' 'Diciembre' 'Enero' 'Febrero' 'Julio' 'Junio' 'Marzo'\n",
      " 'Mayo' 'Noviembre' 'Octubre' 'Septiembre']\n"
     ]
    },
    {
     "data": {
      "text/plain": [
       "'Agosto'"
      ]
     },
     "execution_count": 253,
     "metadata": {},
     "output_type": "execute_result"
    }
   ],
   "source": [
    "print labelEncoder_X.classes_\n",
    "labelEncoder_X.inverse_transform(1)\n"
   ]
  },
  {
   "cell_type": "code",
   "execution_count": 254,
   "metadata": {
    "collapsed": false,
    "scrolled": false
   },
   "outputs": [
    {
     "name": "stdout",
     "output_type": "stream",
     "text": [
      "                            OLS Regression Results                            \n",
      "==============================================================================\n",
      "Dep. Variable:                      y   R-squared:                       0.929\n",
      "Model:                            OLS   Adj. R-squared:                  0.919\n",
      "Method:                 Least Squares   F-statistic:                     90.41\n",
      "Date:                Sun, 26 Nov 2017   Prob (F-statistic):           2.23e-42\n",
      "Time:                        20:58:15   Log-Likelihood:                -569.65\n",
      "No. Observations:                  96   AIC:                             1165.\n",
      "Df Residuals:                      83   BIC:                             1199.\n",
      "Df Model:                          12                                         \n",
      "Covariance Type:            nonrobust                                         \n",
      "==============================================================================\n",
      "                 coef    std err          t      P>|t|      [95.0% Conf. Int.]\n",
      "------------------------------------------------------------------------------\n",
      "const      -1.834e+05   8791.235    -20.858      0.000     -2.01e+05 -1.66e+05\n",
      "x1          -683.7500     49.131    -13.917      0.000      -781.471  -586.029\n",
      "x2           -50.6250     49.131     -1.030      0.306      -148.346    47.096\n",
      "x3          -513.6250     49.131    -10.454      0.000      -611.346  -415.904\n",
      "x4          -589.2500     49.131    -11.993      0.000      -686.971  -491.529\n",
      "x5          -617.2500     49.131    -12.563      0.000      -714.971  -519.529\n",
      "x6          -119.2500     49.131     -2.427      0.017      -216.971   -21.529\n",
      "x7          -282.5000     49.131     -5.750      0.000      -380.221  -184.779\n",
      "x8          -745.5000     49.131    -15.174      0.000      -843.221  -647.779\n",
      "x9          -452.1250     49.131     -9.202      0.000      -549.846  -354.404\n",
      "x10         -302.3750     49.131     -6.154      0.000      -400.096  -204.654\n",
      "x11          -96.7500     49.131     -1.969      0.052      -194.471     0.971\n",
      "x12           92.9921      4.377     21.246      0.000        84.286   101.698\n",
      "==============================================================================\n",
      "Omnibus:                        0.710   Durbin-Watson:                   0.599\n",
      "Prob(Omnibus):                  0.701   Jarque-Bera (JB):                0.829\n",
      "Skew:                           0.180   Prob(JB):                        0.661\n",
      "Kurtosis:                       2.721   Cond. No.                     1.76e+06\n",
      "==============================================================================\n",
      "\n",
      "Warnings:\n",
      "[1] Standard Errors assume that the covariance matrix of the errors is correctly specified.\n",
      "[2] The condition number is large, 1.76e+06. This might indicate that there are\n",
      "strong multicollinearity or other numerical problems.\n",
      "Por tanto la variancia de los términos de error var(e) es: 8296.32888692\n"
     ]
    }
   ],
   "source": [
    "#mod = sm.OLS('Consumo ~ Abril + Agosto + Diciembre + Enero + Febrero + Julio + Junio + Marzo + Mayo + Noviembre + Octubre + Septiembre + Año', Y,X)\n",
    "mod = sm.OLS(Y,X)\n",
    "res = mod.fit()\n",
    "print(res.summary())\n",
    "print \"Por tanto la variancia de los términos de error var(e) es:\", np.sqrt(res.uncentered_tss/13)"
   ]
  },
  {
   "cell_type": "markdown",
   "metadata": {},
   "source": [
    "\n",
    "\n",
    "['Abril' 'Agosto' 'Diciembre' 'Enero' 'Febrero' 'Julio' 'Junio' 'Marzo'\n",
    " 'Mayo' 'Noviembre' 'Octubre' 'Septiembre']\n"
   ]
  },
  {
   "cell_type": "code",
   "execution_count": 259,
   "metadata": {
    "collapsed": false
   },
   "outputs": [],
   "source": [
    "def predictionMonthyear(month,year):\n",
    "    a = 0\n",
    "    if(month == \"Abril\"):\n",
    "        a = -683.750\n",
    "    elif(month == \"Agosto\"):\n",
    "        a = -50.6250\n",
    "    elif(month == \"Diciembre\"):\n",
    "        a = -513.6250\n",
    "    elif(month == \"Enero\"):\n",
    "        a = -589.2500 \n",
    "    elif(month == \"Febrero\"):\n",
    "        a = -617.2500  \n",
    "    elif(month == \"Julio\"):\n",
    "        a = -119.2500\n",
    "    elif(month == \"Junio\"):\n",
    "        a = -282.5000\n",
    "    elif(month == \"Marzo\"):\n",
    "        a = -745.5000\n",
    "    elif(month == \"Mayo\"):\n",
    "        a = -452.1250\n",
    "    elif(month == \"Noviembre\"):\n",
    "        a = -302.3750\n",
    "    elif(month == \"Octubre\"):\n",
    "        a = -96.7500\n",
    "    else:\n",
    "        a = 0.\n",
    "    return -1.834e+05 + a + 92.9921*year"
   ]
  },
  {
   "cell_type": "code",
   "execution_count": 268,
   "metadata": {
    "collapsed": false
   },
   "outputs": [
    {
     "name": "stdout",
     "output_type": "stream",
     "text": [
      "Abril\t\t\t3109.3473 \r\n",
      "Agosto\t\t\t3742.4723 \r\n",
      "Diciembre\t\t\t3279.4723 \r\n",
      "Enero\t\t\t3203.8473 \r\n",
      "Febrero\t\t\t3175.8473 \r\n",
      "Julio\t\t\t3673.8473 \r\n",
      "Junio\t\t\t3510.5973 \r\n",
      "Marzo\t\t\t3047.5973 \r\n",
      "Mayo\t\t\t3340.9723 \r\n",
      "Noviembre\t\t\t3490.7223 \r\n",
      "Octubre\t\t\t3696.3473 \r\n",
      "Septiembre\t\t\t3793.0973 \r\n"
     ]
    }
   ],
   "source": [
    "for year in [2013]:\n",
    "    for month in ['Abril','Agosto','Diciembre','Enero','Febrero','Julio','Junio','Marzo',\n",
    " 'Mayo' ,'Noviembre', 'Octubre', 'Septiembre']:\n",
    "        print month + \"\\t\\t\\t\", predictionMonthyear(month,year), \"\\r\""
   ]
  },
  {
   "cell_type": "code",
   "execution_count": 276,
   "metadata": {
    "collapsed": false
   },
   "outputs": [
    {
     "data": {
      "image/png": "[encoded data removed]",
      "text/plain": [
       "<matplotlib.figure.Figure at 0xc5db9b0>"
      ]
     },
     "metadata": {},
     "output_type": "display_data"
    }
   ],
   "source": [
    "medida = dataset.iloc[:,2].values\n",
    "prediccion = np.zeros(108)\n",
    "x_med = range(0,96)\n",
    "x_pred = range(0,108)\n",
    "i = 0\n",
    "for year in range(2005,2014):\n",
    "        for month in [\"Enero\",\"Febrero\",\"Marzo\",\"Abril\",\"Mayo\",\"Junio\",\"Julio\",\"Agosto\",\"Septiembre\",\"Octubre\",\"Noviembre\",\"Diciembre\"]:\n",
    "            prediccion[i] = predictionMonthyear(month,year)\n",
    "            i = i +1\n",
    "    \n",
    "            \n",
    "\n",
    "plt.plot(x_med,medida, label = 'Mediciones')\n",
    "plt.plot(x_pred, prediccion, label = 'Predicciones')\n",
    "plt.legend()\n",
    "plt.show()\n",
    "        \n",
    "    "
   ]
  },
  {
   "cell_type": "code",
   "execution_count": 283,
   "metadata": {
    "collapsed": false
   },
   "outputs": [
    {
     "data": {
      "image/png": "[encoded data removed]",
      "text/plain": [
       "<matplotlib.figure.Figure at 0xc5fc6d8>"
      ]
     },
     "metadata": {},
     "output_type": "display_data"
    }
   ],
   "source": [
    "medida_p = dataset.iloc[0:12,2].values\n",
    "x_med_p = range(0,12)\n",
    "plt.plot(x_med_p,medida_p, label = 'Mediciones')\n",
    "plt.legend()\n",
    "plt.show()"
   ]
  },
  {
   "cell_type": "code",
   "execution_count": null,
   "metadata": {
    "collapsed": true
   },
   "outputs": [],
   "source": []
  }
 ],
 "metadata": {
  "kernelspec": {
   "display_name": "Python 2",
   "language": "python",
   "name": "python2"
  },
  "language_info": {
   "codemirror_mode": {
    "name": "ipython",
    "version": 2
   },
   "file_extension": ".py",
   "mimetype": "text/x-python",
   "name": "python",
   "nbconvert_exporter": "python",
   "pygments_lexer": "ipython2",
   "version": "2.7.13"
  }
 },
 "nbformat": 4,
 "nbformat_minor": 2
}
